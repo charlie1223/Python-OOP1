{
 "cells": [
  {
   "cell_type": "code",
   "execution_count": 1,
   "id": "bfb43532-b17f-4bfb-bdbb-4e5f104765af",
   "metadata": {
    "tags": []
   },
   "outputs": [],
   "source": [
    "class Student:\n",
    "    def __init__(self, name, student_id, age, gender):\n",
    "        self.name = name\n",
    "        self.student_id = student_id\n",
    "        self.age = age\n",
    "        self.gender = gender\n",
    "        self.grade = None  # 初始成績為None，需要使用set_grade設定\n",
    "\n",
    "    def set_grade(self, grade):\n",
    "        self.grade = grade\n",
    "\n",
    "    def get_grade(self):\n",
    "        return self.grade\n",
    "\n",
    "    def display_student_info(self):\n",
    "        print(\"學生姓名:\", self.name)\n",
    "        print(\"學號:\", self.student_id)\n",
    "        print(\"年齡:\", self.age)\n",
    "        print(\"性別:\", self.gender)\n",
    "        if self.grade is not None:\n",
    "            print(\"成績:\", self.grade)\n",
    "        else:\n",
    "            print(\"成績: 未設定\")\n"
   ]
  },
  {
   "cell_type": "code",
   "execution_count": 2,
   "id": "d208da5f-0b80-4aa5-92e7-b03e2f966bb7",
   "metadata": {
    "tags": []
   },
   "outputs": [],
   "source": [
    "student1 = Student(\"Alice\", \"S12345\", 20, \"女\")"
   ]
  },
  {
   "cell_type": "code",
   "execution_count": 5,
   "id": "9bc71a77-a3e0-4b60-b356-cc6f834de225",
   "metadata": {
    "tags": []
   },
   "outputs": [
    {
     "name": "stdout",
     "output_type": "stream",
     "text": [
      "Alice\n"
     ]
    }
   ],
   "source": [
    "print(student1.name)"
   ]
  },
  {
   "cell_type": "code",
   "execution_count": null,
   "id": "3c319280-0b65-4cc2-9f93-cd6612634923",
   "metadata": {},
   "outputs": [],
   "source": []
  }
 ],
 "metadata": {
  "kernelspec": {
   "display_name": "Python 3 (ipykernel)",
   "language": "python",
   "name": "python3"
  },
  "language_info": {
   "codemirror_mode": {
    "name": "ipython",
    "version": 3
   },
   "file_extension": ".py",
   "mimetype": "text/x-python",
   "name": "python",
   "nbconvert_exporter": "python",
   "pygments_lexer": "ipython3",
   "version": "3.11.5"
  }
 },
 "nbformat": 4,
 "nbformat_minor": 5
}
